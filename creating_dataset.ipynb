{
 "cells": [
  {
   "cell_type": "markdown",
   "metadata": {},
   "source": [
    "# Malayalam Dataset Creation\n",
    "\n",
    "#### Credits\n",
    "\n",
    "- https://www.kaggle.com/datasets/disisbig/malyalam-news-dataset\n",
    "- https://www.kaggle.com/datasets/nairsaanvi/malayalam-data\n",
    "- https://www.kaggle.com/datasets/parvmodi/english-to-malayalam-machine-translation-dataset?select=train.ml\n",
    "- https://www.kaggle.com/datasets/akhisreelibra/malayalam-news\n",
    "- https://www.kaggle.com/datasets/vigneshvit/malayalam-news-dataset\n",
    "- https://huggingface.co/datasets/rajeshradhakrishnan/malayalam_wiki\n",
    "- https://huggingface.co/datasets/Sakshamrzt/IndicNLP-Malayalam?row=17\n",
    "- https://www.kaggle.com/datasets/disisbig/malayalam-wikipedia-articles\n",
    "- https://huggingface.co/datasets/wikipedia/blob/main/wikipedia.py"
   ]
  },
  {
   "cell_type": "code",
   "execution_count": 1,
   "metadata": {},
   "outputs": [],
   "source": [
    "import pandas as pd\n",
    "import numpy as np\n",
    "import matplotlib.pyplot as plt\n",
    "import re"
   ]
  },
  {
   "cell_type": "code",
   "execution_count": 29,
   "metadata": {},
   "outputs": [],
   "source": [
    "data_path = '/home/arjun/Desktop/Datasets/Malayalam datasets/'"
   ]
  },
  {
   "cell_type": "code",
   "execution_count": 3,
   "metadata": {},
   "outputs": [],
   "source": [
    "df = pd.read_csv(data_path + 'news_90k.csv')['para']"
   ]
  },
  {
   "cell_type": "code",
   "execution_count": 4,
   "metadata": {},
   "outputs": [
    {
     "data": {
      "text/plain": [
       "89934"
      ]
     },
     "execution_count": 4,
     "metadata": {},
     "output_type": "execute_result"
    }
   ],
   "source": [
    "full_data = []\n",
    "for sentence in df:\n",
    "    full_data.append(sentence.split('∙')[-1])\n",
    "len(full_data)"
   ]
  },
  {
   "cell_type": "code",
   "execution_count": 10,
   "metadata": {},
   "outputs": [
    {
     "data": {
      "text/plain": [
       "111338"
      ]
     },
     "execution_count": 10,
     "metadata": {},
     "output_type": "execute_result"
    }
   ],
   "source": [
    "df = pd.read_csv(data_path + 'train.csv')['headings']\n",
    "for sentence in df:\n",
    "    full_data.append(sentence + '. ')\n",
    "len(full_data)"
   ]
  },
  {
   "cell_type": "code",
   "execution_count": 12,
   "metadata": {},
   "outputs": [
    {
     "data": {
      "text/plain": [
       "113858"
      ]
     },
     "execution_count": 12,
     "metadata": {},
     "output_type": "execute_result"
    }
   ],
   "source": [
    "df = pd.read_csv(data_path + 'valid.csv')['headings']\n",
    "for sentence in df:\n",
    "    full_data.append(sentence+ '. ')\n",
    "len(full_data)"
   ]
  },
  {
   "cell_type": "code",
   "execution_count": 16,
   "metadata": {},
   "outputs": [
    {
     "data": {
      "text/plain": [
       "0      കൊച്ചി>  ജലച്ചായത്തില്‍ ശ്രദ്ധിക്കേണ്ട കാര്യങ്...\n",
       "1      തിരുവനന്തപുരം  \\n\\nരാജ്യത്ത്‌ എംബിബിഎസ്‌, ബിഡി...\n",
       "2      2019 ല്‍ പുറത്തിറങ്ങിയ സിനിമകളില്‍ ഏറ്റവും കൂട...\n",
       "3      അറബ് ലോകത്തെ ഏറ്റവും പ്രിയങ്കരനായ ഭരണാധികാരിയാ...\n",
       "4      ഒരു നൂറ്റാണ്ടിന്റെ ഋതുപ്പച്ചയേറ്റ‌് മലമുകളിൽ ക...\n",
       "                             ...                        \n",
       "816    റിപ്പബ്ലിക് ദിനത്തോടനുബന്ധിച്ചാണ് ടിസ്സിലെ വിദ...\n",
       "817    ബീജിംങ്: ലക്ഷണങ്ങള്‍ കാണുന്നതിന് മുമ്പേ കൊറോണവ...\n",
       "818    Content Highlights: Cong says govt has no mone...\n",
       "819    മക്കള്‍: എച്ച്.രാജേഷ് (എന്‍.എസ്.എസ്.ഹെഡ് ഓഫീസ്...\n",
       "820    പരിക്കേറ്റവരില്‍ 17 പേര്‍ ജര്‍മനിയില്‍ ചികിത്സ...\n",
       "Name: Article, Length: 821, dtype: object"
      ]
     },
     "execution_count": 16,
     "metadata": {},
     "output_type": "execute_result"
    }
   ],
   "source": [
    "df = pd.read_excel(data_path + 'news3.xlsx')\n",
    "df['Article']"
   ]
  },
  {
   "cell_type": "code",
   "execution_count": 28,
   "metadata": {},
   "outputs": [
    {
     "data": {
      "text/plain": [
       "115406"
      ]
     },
     "execution_count": 28,
     "metadata": {},
     "output_type": "execute_result"
    }
   ],
   "source": [
    "for sen in df['Article']:\n",
    "    if not 'content' in sen.lower() and not 'read' in sen.lower() and not 'more' in sen.lower():\n",
    "        full_data.append(sen.replace('\\n',''))\n",
    "len(full_data)   "
   ]
  },
  {
   "cell_type": "code",
   "execution_count": 31,
   "metadata": {},
   "outputs": [
    {
     "data": {
      "text/plain": [
       "404353426"
      ]
     },
     "execution_count": 31,
     "metadata": {},
     "output_type": "execute_result"
    }
   ],
   "source": [
    "with open(data_path + 'train.ml') as f:\n",
    "    df = f.read()\n",
    "\n",
    "df = df.split('\\n')\n",
    "len(df)"
   ]
  },
  {
   "cell_type": "code",
   "execution_count": 37,
   "metadata": {},
   "outputs": [
    {
     "name": "stdout",
     "output_type": "stream",
     "text": [
      "ക്യാന്‍സറിനോട് പോരാടുന്ന കിസി, മാനി എന്നിവരുടെ ജീവിതമാണ് ചിത്രം പറയുന്നത്.\n"
     ]
    },
    {
     "ename": "",
     "evalue": "",
     "output_type": "error",
     "traceback": [
      "\u001b[1;31mThe Kernel crashed while executing code in the current cell or a previous cell. \n",
      "\u001b[1;31mPlease review the code in the cell(s) to identify a possible cause of the failure. \n",
      "\u001b[1;31mClick <a href='https://aka.ms/vscodeJupyterKernelCrash'>here</a> for more info. \n",
      "\u001b[1;31mView Jupyter <a href='command:jupyter.viewOutput'>log</a> for further details."
     ]
    }
   ],
   "source": [
    "for sentence in df:\n",
    "    print(sentence.replace(r'\\u200', ''))\n",
    "    full_data.append(sentence)\n",
    "len(full_data)"
   ]
  }
 ],
 "metadata": {
  "kernelspec": {
   "display_name": "AI_ENV",
   "language": "python",
   "name": "python3"
  },
  "language_info": {
   "codemirror_mode": {
    "name": "ipython",
    "version": 3
   },
   "file_extension": ".py",
   "mimetype": "text/x-python",
   "name": "python",
   "nbconvert_exporter": "python",
   "pygments_lexer": "ipython3",
   "version": "3.10.12"
  }
 },
 "nbformat": 4,
 "nbformat_minor": 2
}
