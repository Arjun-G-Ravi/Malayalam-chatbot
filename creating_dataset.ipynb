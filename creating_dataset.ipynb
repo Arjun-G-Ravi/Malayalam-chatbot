{
 "cells": [
  {
   "cell_type": "markdown",
   "metadata": {},
   "source": [
    "# Malayalam Dataset Creation\n",
    "\n",
    "#### Credits\n",
    "\n",
    "- https://www.kaggle.com/datasets/disisbig/malyalam-news-dataset\n",
    "- https://www.kaggle.com/datasets/nairsaanvi/malayalam-data\n",
    "- https://www.kaggle.com/datasets/parvmodi/english-to-malayalam-machine-translation-dataset?select=train.ml\n",
    "- https://www.kaggle.com/datasets/akhisreelibra/malayalam-news\n",
    "- https://www.kaggle.com/datasets/vigneshvit/malayalam-news-dataset\n",
    "- https://huggingface.co/datasets/rajeshradhakrishnan/malayalam_wiki\n",
    "- https://huggingface.co/datasets/Sakshamrzt/IndicNLP-Malayalam?row=17\n",
    "- https://www.kaggle.com/datasets/disisbig/malayalam-wikipedia-articles\n",
    "- https://huggingface.co/datasets/wikipedia/blob/main/wikipedia.py"
   ]
  },
  {
   "cell_type": "code",
   "execution_count": 1,
   "metadata": {},
   "outputs": [],
   "source": [
    "import pandas as pd\n",
    "import numpy as np\n",
    "import matplotlib.pyplot as plt\n",
    "import re"
   ]
  },
  {
   "cell_type": "code",
   "execution_count": 2,
   "metadata": {},
   "outputs": [],
   "source": [
    "data_path = '/home/arjun/Desktop/Datasets/Malayalam datasets/'"
   ]
  },
  {
   "cell_type": "code",
   "execution_count": 3,
   "metadata": {},
   "outputs": [],
   "source": [
    "df = pd.read_csv(data_path + 'news_90k.csv')['para']"
   ]
  },
  {
   "cell_type": "code",
   "execution_count": 4,
   "metadata": {},
   "outputs": [
    {
     "data": {
      "text/plain": [
       "89934"
      ]
     },
     "execution_count": 4,
     "metadata": {},
     "output_type": "execute_result"
    }
   ],
   "source": [
    "full_data = []\n",
    "for sentence in df:\n",
    "    full_data.append(sentence.split('∙')[-1])\n",
    "len(full_data)"
   ]
  },
  {
   "cell_type": "code",
   "execution_count": 5,
   "metadata": {},
   "outputs": [
    {
     "data": {
      "text/plain": [
       "94970"
      ]
     },
     "execution_count": 5,
     "metadata": {},
     "output_type": "execute_result"
    }
   ],
   "source": [
    "df = pd.read_csv(data_path + 'train.csv')['headings']\n",
    "for sentence in df:\n",
    "    full_data.append(sentence + '. ')\n",
    "len(full_data)"
   ]
  },
  {
   "cell_type": "code",
   "execution_count": 6,
   "metadata": {},
   "outputs": [
    {
     "data": {
      "text/plain": [
       "96230"
      ]
     },
     "execution_count": 6,
     "metadata": {},
     "output_type": "execute_result"
    }
   ],
   "source": [
    "df = pd.read_csv(data_path + 'valid.csv')['headings']\n",
    "for sentence in df:\n",
    "    full_data.append(sentence+ '. ')\n",
    "len(full_data)"
   ]
  },
  {
   "cell_type": "code",
   "execution_count": 7,
   "metadata": {},
   "outputs": [],
   "source": [
    "df = pd.read_excel(data_path + 'news3.xlsx')\n",
    "# df['Article']"
   ]
  },
  {
   "cell_type": "code",
   "execution_count": 8,
   "metadata": {},
   "outputs": [
    {
     "data": {
      "text/plain": [
       "97004"
      ]
     },
     "execution_count": 8,
     "metadata": {},
     "output_type": "execute_result"
    }
   ],
   "source": [
    "for sen in df['Article']:\n",
    "    if not 'content' in sen.lower() and not 'read' in sen.lower() and not 'more' in sen.lower():\n",
    "        full_data.append(sen.replace('\\n',''))\n",
    "len(full_data)   "
   ]
  },
  {
   "cell_type": "code",
   "execution_count": 9,
   "metadata": {},
   "outputs": [
    {
     "data": {
      "text/plain": [
       "5924427"
      ]
     },
     "execution_count": 9,
     "metadata": {},
     "output_type": "execute_result"
    }
   ],
   "source": [
    "with open(data_path + 'train.ml') as f:\n",
    "    df = f.read()\n",
    "\n",
    "df = df.split('\\n')"
   ]
  },
  {
   "cell_type": "code",
   "execution_count": 10,
   "metadata": {},
   "outputs": [
    {
     "data": {
      "text/plain": [
       "6021431"
      ]
     },
     "execution_count": 10,
     "metadata": {},
     "output_type": "execute_result"
    }
   ],
   "source": [
    "for sentence in df:\n",
    "    clean_sentence = re.sub(r'[\\u200b]', '', sentence)\n",
    "    full_data.append(clean_sentence)\n",
    "len(full_data)"
   ]
  },
  {
   "cell_type": "code",
   "execution_count": 24,
   "metadata": {},
   "outputs": [
    {
     "name": "stdout",
     "output_type": "stream",
     "text": [
      "6021431\n"
     ]
    },
    {
     "ename": "KeyboardInterrupt",
     "evalue": "",
     "output_type": "error",
     "traceback": [
      "\u001b[0;31m---------------------------------------------------------------------------\u001b[0m",
      "\u001b[0;31mKeyboardInterrupt\u001b[0m                         Traceback (most recent call last)",
      "Cell \u001b[0;32mIn[24], line 5\u001b[0m\n\u001b[1;32m      3\u001b[0m \u001b[38;5;28;01mfor\u001b[39;00m i \u001b[38;5;129;01min\u001b[39;00m \u001b[38;5;28mrange\u001b[39m(\u001b[38;5;28mlen\u001b[39m(full_data)):\n\u001b[1;32m      4\u001b[0m     \u001b[38;5;28;01mif\u001b[39;00m \u001b[38;5;28mlen\u001b[39m(full_data[i])  \u001b[38;5;241m<\u001b[39m \u001b[38;5;241m100\u001b[39m:\n\u001b[0;32m----> 5\u001b[0m         \u001b[43mfull_data\u001b[49m\u001b[38;5;241;43m.\u001b[39;49m\u001b[43mpop\u001b[49m\u001b[43m(\u001b[49m\u001b[43mi\u001b[49m\u001b[43m)\u001b[49m\n\u001b[1;32m      6\u001b[0m \u001b[38;5;28mprint\u001b[39m(\u001b[38;5;28mlen\u001b[39m(full_data))\n",
      "\u001b[0;31mKeyboardInterrupt\u001b[0m: "
     ]
    }
   ],
   "source": [
    "# removing very small datas\n",
    "print(len(full_data))\n",
    "for i in range(len(full_data)):\n",
    "    if len(full_data[i])  < 100:\n",
    "        full_data.pop(i)\n",
    "print(len(full_data))"
   ]
  }
 ],
 "metadata": {
  "kernelspec": {
   "display_name": "AI_ENV",
   "language": "python",
   "name": "python3"
  },
  "language_info": {
   "codemirror_mode": {
    "name": "ipython",
    "version": 3
   },
   "file_extension": ".py",
   "mimetype": "text/x-python",
   "name": "python",
   "nbconvert_exporter": "python",
   "pygments_lexer": "ipython3",
   "version": "3.10.12"
  }
 },
 "nbformat": 4,
 "nbformat_minor": 2
}
