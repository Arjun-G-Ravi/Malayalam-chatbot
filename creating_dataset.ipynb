{
 "cells": [
  {
   "cell_type": "markdown",
   "metadata": {},
   "source": [
    "# Malayalam Dataset Creation\n",
    "\n",
    "#### Credits\n",
    "\n",
    "- https://www.kaggle.com/datasets/disisbig/malyalam-news-dataset\n",
    "- https://www.kaggle.com/datasets/nairsaanvi/malayalam-data\n",
    "- https://www.kaggle.com/datasets/parvmodi/english-to-malayalam-machine-translation-dataset?select=train.ml\n",
    "- https://www.kaggle.com/datasets/akhisreelibra/malayalam-news\n",
    "- https://www.kaggle.com/datasets/vigneshvit/malayalam-news-dataset\n",
    "- https://huggingface.co/datasets/rajeshradhakrishnan/malayalam_wiki\n",
    "- https://huggingface.co/datasets/Sakshamrzt/IndicNLP-Malayalam?row=17"
   ]
  },
  {
   "cell_type": "code",
   "execution_count": null,
   "metadata": {},
   "outputs": [],
   "source": []
  }
 ],
 "metadata": {
  "language_info": {
   "name": "python"
  }
 },
 "nbformat": 4,
 "nbformat_minor": 2
}
