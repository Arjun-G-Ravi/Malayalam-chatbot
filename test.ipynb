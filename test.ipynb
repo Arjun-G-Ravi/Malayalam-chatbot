{
 "cells": [
  {
   "cell_type": "code",
   "execution_count": 1,
   "metadata": {},
   "outputs": [],
   "source": [
    "import pandas as pd\n",
    "df = pd.read_csv('output.csv')"
   ]
  },
  {
   "cell_type": "code",
   "execution_count": 3,
   "metadata": {},
   "outputs": [
    {
     "data": {
      "text/html": [
       "<div>\n",
       "<style scoped>\n",
       "    .dataframe tbody tr th:only-of-type {\n",
       "        vertical-align: middle;\n",
       "    }\n",
       "\n",
       "    .dataframe tbody tr th {\n",
       "        vertical-align: top;\n",
       "    }\n",
       "\n",
       "    .dataframe thead th {\n",
       "        text-align: right;\n",
       "    }\n",
       "</style>\n",
       "<table border=\"1\" class=\"dataframe\">\n",
       "  <thead>\n",
       "    <tr style=\"text-align: right;\">\n",
       "      <th></th>\n",
       "      <th>Unnamed: 0</th>\n",
       "      <th>Text</th>\n",
       "    </tr>\n",
       "  </thead>\n",
       "  <tbody>\n",
       "    <tr>\n",
       "      <th>0</th>\n",
       "      <td>0</td>\n",
       "      <td>മറ്റുള്ളവരെ കുറിച്ചു ചിന്തിക്കുന്നത്‌ മറ്റൊരു ...</td>\n",
       "    </tr>\n",
       "    <tr>\n",
       "      <th>1</th>\n",
       "      <td>1</td>\n",
       "      <td>ഓസ്ട്രേലിയൻ സർവീസ് ടീമിനെതിരെ ബാറ്റ് ചെയ്ത ബ്ര...</td>\n",
       "    </tr>\n",
       "    <tr>\n",
       "      <th>2</th>\n",
       "      <td>2</td>\n",
       "      <td>പുറത്ത്‌ മഞ്ഞുമഴ.</td>\n",
       "    </tr>\n",
       "    <tr>\n",
       "      <th>3</th>\n",
       "      <td>3</td>\n",
       "      <td>അതിന് ശേഷം ഇലക്ട്രിക് ബസ്.</td>\n",
       "    </tr>\n",
       "    <tr>\n",
       "      <th>4</th>\n",
       "      <td>4</td>\n",
       "      <td>മലയാളം, കന്നഡ, തമിഴ് തുടങ്ങിയ ഭാഷകളിൽ ശ്രദ്ധേയ...</td>\n",
       "    </tr>\n",
       "    <tr>\n",
       "      <th>...</th>\n",
       "      <td>...</td>\n",
       "      <td>...</td>\n",
       "    </tr>\n",
       "    <tr>\n",
       "      <th>6050951</th>\n",
       "      <td>6050951</td>\n",
       "      <td>മദ്യപാനം ശരീരത്തിന് ഹാനികരമാണ്.</td>\n",
       "    </tr>\n",
       "    <tr>\n",
       "      <th>6050952</th>\n",
       "      <td>6050952</td>\n",
       "      <td>അങ്ങേര് നല്ല ഉശിരൻ.</td>\n",
       "    </tr>\n",
       "    <tr>\n",
       "      <th>6050953</th>\n",
       "      <td>6050953</td>\n",
       "      <td>നെല്ലും വാഴയും പച്ചക്കറികളും മരച്ചീനിയുമുൾപ്പെ...</td>\n",
       "    </tr>\n",
       "    <tr>\n",
       "      <th>6050954</th>\n",
       "      <td>6050954</td>\n",
       "      <td>എളുപ്പത്തില്‍ അടുക്കാറില്ല</td>\n",
       "    </tr>\n",
       "    <tr>\n",
       "      <th>6050955</th>\n",
       "      <td>6050955</td>\n",
       "      <td>സംഭവം കൊലപാതകമാണെന്ന് സംശയിക്കുന്നതായി പൊലീസ് ...</td>\n",
       "    </tr>\n",
       "  </tbody>\n",
       "</table>\n",
       "<p>6050956 rows × 2 columns</p>\n",
       "</div>"
      ],
      "text/plain": [
       "         Unnamed: 0                                               Text\n",
       "0                 0  മറ്റുള്ളവരെ കുറിച്ചു ചിന്തിക്കുന്നത്‌ മറ്റൊരു ...\n",
       "1                 1  ഓസ്ട്രേലിയൻ സർവീസ് ടീമിനെതിരെ ബാറ്റ് ചെയ്ത ബ്ര...\n",
       "2                 2                                  പുറത്ത്‌ മഞ്ഞുമഴ.\n",
       "3                 3                         അതിന് ശേഷം ഇലക്ട്രിക് ബസ്.\n",
       "4                 4  മലയാളം, കന്നഡ, തമിഴ് തുടങ്ങിയ ഭാഷകളിൽ ശ്രദ്ധേയ...\n",
       "...             ...                                                ...\n",
       "6050951     6050951                    മദ്യപാനം ശരീരത്തിന് ഹാനികരമാണ്.\n",
       "6050952     6050952                                അങ്ങേര് നല്ല ഉശിരൻ.\n",
       "6050953     6050953  നെല്ലും വാഴയും പച്ചക്കറികളും മരച്ചീനിയുമുൾപ്പെ...\n",
       "6050954     6050954                         എളുപ്പത്തില്‍ അടുക്കാറില്ല\n",
       "6050955     6050955  സംഭവം കൊലപാതകമാണെന്ന് സംശയിക്കുന്നതായി പൊലീസ് ...\n",
       "\n",
       "[6050956 rows x 2 columns]"
      ]
     },
     "execution_count": 3,
     "metadata": {},
     "output_type": "execute_result"
    }
   ],
   "source": [
    "df"
   ]
  },
  {
   "cell_type": "code",
   "execution_count": 4,
   "metadata": {},
   "outputs": [
    {
     "name": "stdout",
     "output_type": "stream",
     "text": [
      "0\n",
      "100000\n",
      "200000\n",
      "300000\n",
      "400000\n",
      "500000\n",
      "600000\n",
      "700000\n",
      "800000\n",
      "900000\n",
      "1000000\n",
      "1100000\n",
      "1200000\n",
      "1300000\n",
      "1400000\n",
      "1500000\n",
      "1600000\n",
      "1700000\n",
      "1800000\n",
      "1900000\n",
      "2000000\n",
      "2100000\n",
      "2200000\n",
      "2300000\n",
      "2400000\n",
      "2500000\n",
      "2600000\n",
      "2700000\n",
      "2800000\n",
      "2900000\n",
      "3000000\n",
      "3100000\n",
      "3200000\n",
      "3300000\n",
      "3400000\n",
      "3500000\n",
      "3600000\n",
      "3700000\n",
      "3800000\n",
      "3900000\n",
      "4000000\n",
      "4100000\n",
      "4200000\n",
      "4300000\n",
      "4400000\n",
      "4500000\n",
      "4600000\n",
      "4700000\n",
      "4800000\n",
      "4900000\n",
      "5000000\n",
      "5100000\n",
      "5200000\n",
      "5300000\n",
      "5400000\n",
      "5500000\n",
      "5600000\n",
      "5700000\n",
      "5800000\n",
      "5900000\n",
      "6000000\n"
     ]
    }
   ],
   "source": [
    "big = 0\n",
    "for ind, i in enumerate(df['Text']):\n",
    "    big = max(len(i), big)\n",
    "    if ind%1e5==0: print(ind)"
   ]
  },
  {
   "cell_type": "code",
   "execution_count": 5,
   "metadata": {},
   "outputs": [
    {
     "data": {
      "text/plain": [
       "106224"
      ]
     },
     "execution_count": 5,
     "metadata": {},
     "output_type": "execute_result"
    }
   ],
   "source": [
    "big"
   ]
  }
 ],
 "metadata": {
  "kernelspec": {
   "display_name": "AI_ENV",
   "language": "python",
   "name": "python3"
  },
  "language_info": {
   "codemirror_mode": {
    "name": "ipython",
    "version": 3
   },
   "file_extension": ".py",
   "mimetype": "text/x-python",
   "name": "python",
   "nbconvert_exporter": "python",
   "pygments_lexer": "ipython3",
   "version": "3.10.12"
  }
 },
 "nbformat": 4,
 "nbformat_minor": 2
}
